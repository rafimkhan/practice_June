{
 "cells": [
  {
   "cell_type": "code",
   "execution_count": 1,
   "id": "41d250c4-1ef0-4793-a608-f29ff4b1e36b",
   "metadata": {},
   "outputs": [
    {
     "name": "stdin",
     "output_type": "stream",
     "text": [
      " 6\n"
     ]
    },
    {
     "name": "stdout",
     "output_type": "stream",
     "text": [
      "A=113.0972\n"
     ]
    }
   ],
   "source": [
    "R = float(input())\n",
    "A = 3.14159*R**2\n",
    "A = f\"{A:.4f}\"\n",
    "print(\"A=\"+str(A))"
   ]
  },
  {
   "cell_type": "code",
   "execution_count": null,
   "id": "06c8a48b-68f9-4df7-9b93-c7ac193c2361",
   "metadata": {},
   "outputs": [],
   "source": []
  }
 ],
 "metadata": {
  "kernelspec": {
   "display_name": "Python 3 (ipykernel)",
   "language": "python",
   "name": "python3"
  },
  "language_info": {
   "codemirror_mode": {
    "name": "ipython",
    "version": 3
   },
   "file_extension": ".py",
   "mimetype": "text/x-python",
   "name": "python",
   "nbconvert_exporter": "python",
   "pygments_lexer": "ipython3",
   "version": "3.12.7"
  }
 },
 "nbformat": 4,
 "nbformat_minor": 5
}
